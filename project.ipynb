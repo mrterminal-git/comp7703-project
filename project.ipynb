{
 "cells": [
  {
   "cell_type": "markdown",
   "id": "2ec85661",
   "metadata": {},
   "source": [
    "### Imports\n"
   ]
  },
  {
   "cell_type": "code",
   "execution_count": 164,
   "id": "135b8969",
   "metadata": {},
   "outputs": [],
   "source": [
    "import pandas as pd\n",
    "import numpy as np\n",
    "from sklearn.preprocessing import StandardScaler\n",
    "from sklearn.decomposition import PCA\n",
    "from sklearn.cluster import KMeans\n",
    "from sklearn.metrics import silhouette_score\n",
    "import matplotlib.pyplot as plt\n",
    "import seaborn as sns\n",
    "from sklearn.model_selection import train_test_split\n",
    "from sklearn.neighbors import KNeighborsClassifier\n",
    "from sklearn.metrics import accuracy_score\n"
   ]
  },
  {
   "cell_type": "markdown",
   "id": "0aabc622",
   "metadata": {},
   "source": [
    "### Data Exploration"
   ]
  },
  {
   "cell_type": "code",
   "execution_count": null,
   "id": "54eeb14d",
   "metadata": {},
   "outputs": [],
   "source": [
    "\n",
    "# Reload the CSV file\n",
    "file_path = \"assignTTSWING.csv\"\n",
    "df = pd.read_csv(file_path)\n"
   ]
  },
  {
   "cell_type": "code",
   "execution_count": null,
   "id": "d3c74509",
   "metadata": {},
   "outputs": [],
   "source": [
    "# Filter only feature columns (exclude metadata and IDs)\n",
    "feature_columns = [col for col in df.columns if col.startswith(('a_', 'g_', 'ax_', 'ay_', 'az_', 'gx_', 'gy_', 'gz_'))]\n",
    "features = df[feature_columns]\n",
    "\n",
    "# Assign the labels\n",
    "testmode_labels = df['testmode'] if 'testmode' in df.columns else None\n",
    "gender_labels = df['gender'] if 'gender' in df.columns else None\n",
    "age_labels = df['age'] if 'age' in df.columns else None\n",
    "playYears_labels = df['playYears'] if 'playYears' in df.columns else None\n",
    "height_labels = df['height'] if 'height' in df.columns else None\n",
    "weight_labels = df['weight'] if 'weight' in df.columns else None\n",
    "handedness_labels = df['handedness'] if 'handedness' in df.columns else None\n",
    "holdRacketHanded_labels = df['holdRacketHanded'] if 'holdRacketHanded' in df.columns else None\n",
    "\n",
    "# Combine all labels into a single DataFrame\n",
    "labels_df = pd.DataFrame({\n",
    "    'testmode': testmode_labels,\n",
    "    'gender' : gender_labels,\n",
    "    'age' : age_labels,\n",
    "    'playYears' : playYears_labels,\n",
    "    'height' : height_labels,\n",
    "    'weight' : weight_labels,\n",
    "    'handedness' : handedness_labels,\n",
    "    'holdRacketHanded' : holdRacketHanded_labels\n",
    "})\n"
   ]
  },
  {
   "cell_type": "code",
   "execution_count": null,
   "id": "e9f9c943",
   "metadata": {},
   "outputs": [],
   "source": [
    "# Convert all labels to string type\n",
    "labels_df = labels_df.astype(str)"
   ]
  },
  {
   "cell_type": "code",
   "execution_count": null,
   "id": "865412c2",
   "metadata": {},
   "outputs": [],
   "source": [
    "# Count how many of each label we have\n",
    "label_counts = labels_df.apply(pd.Series.value_counts).fillna(0).astype(int)\n",
    "\n",
    "# Print the label counts\n",
    "print(\"Label counts:\")\n",
    "print(label_counts)"
   ]
  },
  {
   "cell_type": "code",
   "execution_count": null,
   "id": "502e77fd",
   "metadata": {},
   "outputs": [],
   "source": [
    "# Reveal the rows that are ??? for age, playYears, height, weight\n",
    "missing_labels = labels_df[labels_df.isin(['???']).any(axis=1)]\n",
    "\n",
    "# Print the rows with missing labels\n",
    "print(\"\\nRows with missing labels:\")\n",
    "print(missing_labels)\n",
    "\n",
    "# Create a list of all the rows that are ??? for age, playYears, height, weight\n",
    "missing_rows = missing_labels.index.tolist()\n",
    "\n",
    "# Delete the rows with missing labels from the labels and features DataFrames\n",
    "labels_df = labels_df.drop(missing_rows)\n",
    "features = features.drop(missing_rows)"
   ]
  },
  {
   "cell_type": "code",
   "execution_count": 176,
   "id": "d09406df",
   "metadata": {},
   "outputs": [
    {
     "name": "stdout",
     "output_type": "stream",
     "text": [
      "Label counts:\n",
      "        testmode   gender      age  playYears   height   weight  handedness  \\\n",
      "0         7500.0  38550.0      NaN        NaN      NaN      NaN     16100.0   \n",
      "1        73850.0  58800.0      NaN        NaN      NaN      NaN     81250.0   \n",
      "2        16000.0      NaN      NaN        NaN      NaN      NaN         NaN   \n",
      "high         NaN      NaN  18150.0    23200.0  29100.0  29250.0         NaN   \n",
      "low          NaN      NaN  26900.0    21250.0  27450.0  31500.0         NaN   \n",
      "medium       NaN      NaN  52300.0    52900.0  40800.0  36600.0         NaN   \n",
      "\n",
      "        holdRacketHanded  \n",
      "0                16100.0  \n",
      "1                81250.0  \n",
      "2                    NaN  \n",
      "high                 NaN  \n",
      "low                  NaN  \n",
      "medium               NaN  \n"
     ]
    }
   ],
   "source": [
    "# Recheck that the invalid rows are gone\n",
    "# Count how many of each label we have\n",
    "label_counts = labels_df.apply(pd.Series.value_counts)\n",
    "\n",
    "# Print the label counts\n",
    "print(\"Label counts:\")\n",
    "print(label_counts)"
   ]
  },
  {
   "cell_type": "markdown",
   "id": "d42bae4b",
   "metadata": {},
   "source": [
    "### PCA"
   ]
  },
  {
   "cell_type": "code",
   "execution_count": null,
   "id": "1cb86673",
   "metadata": {},
   "outputs": [],
   "source": [
    "# Compute the PCA via the covariance matrix method\n",
    "\n",
    "# Standardize the features\n",
    "mean = features.mean()\n",
    "std = features.std()\n",
    "features_standardized = (features - mean) / std\n",
    "\n",
    "# Compute the covariance matrix\n",
    "cov_matrix = features_standardized.cov()\n",
    "\n",
    "# Compute the eigenvalues and eigenvectors\n",
    "eigenvalues, eigenvectors = np.linalg.eig(cov_matrix)\n",
    "\n",
    "# Sort the eigenvalues and eigenvectors\n",
    "sorted_indices = np.argsort(eigenvalues)[::-1]\n",
    "sorted_eigenvalues = eigenvalues[sorted_indices]\n",
    "sorted_eigenvectors = eigenvectors[:, sorted_indices]\n",
    "\n",
    "# Perform dimensionality reduction by multiplying the data by the top two eigenvectors\n",
    "pca_features = np.dot(features_standardized, sorted_eigenvectors[:, :2])\n",
    "pca_features_df = pd.DataFrame(pca_features, columns=['PC1', 'PC2'])\n",
    "\n",
    "# Plot the PCA results\n",
    "plt.figure(figsize=(10, 6))\n",
    "sns.scatterplot(data=pca_features_df, x='PC1', y='PC2', hue=testmode_labels, palette='Set1', alpha=0.7)\n",
    "plt.title('PCA of Features')\n",
    "plt.xlabel('Principal Component 1')\n",
    "plt.ylabel('Principal Component 2')\n",
    "plt.legend(title='Test Mode')\n",
    "plt.grid()\n",
    "plt.savefig('pca_features.png')\n",
    "plt.show()\n",
    "\n"
   ]
  },
  {
   "cell_type": "code",
   "execution_count": null,
   "id": "8823e44e",
   "metadata": {},
   "outputs": [],
   "source": [
    "\n",
    "# Again but with feature changed into ndarray\n",
    "features_np = features.values\n",
    "\n",
    "# Standardize the features\n",
    "mean = np.mean(features_np, axis=0)\n",
    "std_dev = np.std(features_np, axis=0)\n",
    "features_standardized_np = (features_np - mean) / std_dev\n",
    "\n",
    "# Compute the covariance matrix\n",
    "cov_matrix_np = np.cov(features_standardized_np.T)\n",
    "\n",
    "# Compute the eigenvalues and eigenvectors\n",
    "eigenvalues_np, eigenvectors_np = np.linalg.eig(cov_matrix_np)\n",
    "sorted_indices = np.argsort(eigenvalues_np)[::-1]\n",
    "eigenvalues = eigenvalues_np[sorted_indices]\n",
    "eigenvectors = eigenvectors_np[:, sorted_indices]\n",
    "\n",
    "# Perform dimensionality reduction by multiplying the data by the top two eigenvectors\n",
    "reduced_features = np.dot(features_standardized_np, eigenvectors[:, :2])\n",
    "\n"
   ]
  },
  {
   "cell_type": "code",
   "execution_count": null,
   "id": "be063f0c",
   "metadata": {},
   "outputs": [],
   "source": [
    "# Make a Scree graph for all eigenvalues\n",
    "plt.figure(figsize=(10, 6))\n",
    "plt.plot(range(1, len(eigenvalues) + 1), eigenvalues, marker='o', linestyle='--')\n",
    "plt.title('Scree Plot of Eigenvalues')\n",
    "plt.xlabel('Principal Component')\n",
    "plt.ylabel('Eigenvalue')\n",
    "plt.xticks(range(1, len(eigenvalues) + 1))\n",
    "plt.grid()\n",
    "plt.savefig('scree_plot.png')\n",
    "plt.show()\n",
    "\n",
    "# Make another Scree graph for all eigenvalues but the y-axis is the percentage of variance explained\n",
    "plt.figure(figsize=(10, 6))\n",
    "explained_variance = eigenvalues / np.sum(eigenvalues) * 100\n",
    "plt.plot(range(1, len(explained_variance) + 1), explained_variance, marker='o', linestyle='--')\n",
    "plt.title('Scree Plot of Explained Variance')\n",
    "plt.xlabel('Principal Component')\n",
    "plt.ylabel('Explained Variance (%)')\n",
    "plt.xticks(range(1, len(explained_variance) + 1))\n",
    "plt.grid()\n",
    "plt.show()\n",
    "\n",
    "# Make a cumulative explained variance plot\n",
    "plt.figure(figsize=(10, 6))\n",
    "cumulative_explained_variance = np.cumsum(explained_variance)\n",
    "plt.plot(range(1, len(cumulative_explained_variance) + 1), cumulative_explained_variance, marker='o', linestyle='--')\n",
    "plt.title('Cumulative Explained Variance')\n",
    "plt.xlabel('Principal Component')\n",
    "plt.ylabel('Cumulative Explained Variance (%)')\n",
    "plt.xticks(range(1, len(cumulative_explained_variance) + 1))\n",
    "plt.grid()\n",
    "plt.show()\n",
    "\n",
    "# Check that the percentages add up to 100%\n",
    "total_variance = np.sum(explained_variance)\n",
    "print(f\"Total variance explained by all components: {total_variance:.2f}%\")\n"
   ]
  },
  {
   "cell_type": "code",
   "execution_count": null,
   "id": "e97a3a5c",
   "metadata": {},
   "outputs": [],
   "source": [
    "# Reduce the features to 16 dimensions using PCA\n",
    "reduced_features_16 = np.dot(features_standardized_np, eigenvectors[:, :16])\n",
    "\n",
    "# Plot the correlation matrix of the reduced 16D features\n",
    "plt.figure(figsize=(12, 10))\n",
    "sns.heatmap(np.corrcoef(reduced_features_16.T), annot=True, fmt=\".2f\", cmap='coolwarm', square=True, cbar_kws={\"shrink\": .8})\n",
    "plt.title('Correlation Matrix of Reduced 16D Features')\n",
    "plt.show()\n"
   ]
  },
  {
   "cell_type": "code",
   "execution_count": null,
   "id": "758141bd",
   "metadata": {},
   "outputs": [],
   "source": [
    "# Standardize features\n",
    "scaler = StandardScaler()\n",
    "X_scaled = scaler.fit_transform(features)\n",
    "\n",
    "# Apply PCA to reduce dimensions to 2D for visualization\n",
    "pca = PCA(n_components=2)\n",
    "X_pca = pca.fit_transform(X_scaled)\n"
   ]
  },
  {
   "cell_type": "markdown",
   "id": "e93d5b52",
   "metadata": {},
   "source": [
    "### K-NN ALGORITHM"
   ]
  },
  {
   "cell_type": "markdown",
   "id": "fe246422",
   "metadata": {},
   "source": [
    "#### K-NN WITH ORIGINAL DATASET"
   ]
  },
  {
   "cell_type": "code",
   "execution_count": 182,
   "id": "baf0dd67",
   "metadata": {},
   "outputs": [],
   "source": [
    "def run_knn_from_split(X_train, X_test, y_train, y_test, n_neighbors=5, class_names=None, plot_confusion=False, verbose=False, label_name=\"\"):\n",
    "    # Fit KNN\n",
    "    knn = KNeighborsClassifier(n_neighbors=n_neighbors)\n",
    "    knn.fit(X_train, y_train)\n",
    "    y_pred = knn.predict(X_test)\n",
    "\n",
    "    # Accuracy and loss\n",
    "    accuracy = accuracy_score(y_test, y_pred)\n",
    "    loss = 1 - accuracy\n",
    "\n",
    "    if verbose:\n",
    "        print(f\"\\nK-NN Results for label: {label_name}\")\n",
    "        print(classification_report(y_test, y_pred, target_names=class_names))\n",
    "        print(f\"Accuracy: {accuracy:.4f}\")\n",
    "        print(f\"Loss: {loss:.4f}\")\n",
    "\n",
    "    if plot_confusion:\n",
    "        from sklearn.metrics import confusion_matrix\n",
    "        cm = confusion_matrix(y_test, y_pred)\n",
    "        plt.figure(figsize=(6, 5))\n",
    "        sns.heatmap(cm, annot=True, fmt='d', cmap='Blues',\n",
    "                    xticklabels=class_names, yticklabels=class_names)\n",
    "        plt.xlabel('Predicted')\n",
    "        plt.ylabel('True')\n",
    "        plt.title(f'Confusion Matrix: {label_name}')\n",
    "        plt.tight_layout()\n",
    "        plt.show()\n",
    "\n",
    "    return accuracy, loss, knn\n",
    "\n",
    "# Example usage:\n",
    "from sklearn.model_selection import train_test_split\n",
    "from sklearn.preprocessing import LabelEncoder\n",
    "\n",
    "label_of_interest = 'height'\n",
    "y = labels_df[label_of_interest].values\n",
    "le = LabelEncoder()\n",
    "y_encoded = le.fit_transform(y)\n",
    "class_names = le.classes_\n",
    "\n",
    "# Split once\n",
    "X_train, X_test, y_train, y_test = train_test_split(\n",
    "    X_scaled, y_encoded, test_size=0.2, random_state=42, stratify=y_encoded\n",
    ")\n",
    "\n",
    "# Run KNN for k=1\n",
    "accuracy, loss, _ = run_knn_from_split(X_train, X_test, y_train, y_test, n_neighbors=1, class_names=class_names, label_name=label_of_interest)\n"
   ]
  },
  {
   "cell_type": "code",
   "execution_count": 183,
   "id": "2616349a",
   "metadata": {},
   "outputs": [
    {
     "name": "stdout",
     "output_type": "stream",
     "text": [
      "n_neighbors=1: accuracy=0.8768, loss=0.1232\n",
      "n_neighbors=2: accuracy=0.8591, loss=0.1409\n",
      "n_neighbors=4: accuracy=0.8744, loss=0.1256\n",
      "n_neighbors=8: accuracy=0.8694, loss=0.1306\n",
      "n_neighbors=16: accuracy=0.8585, loss=0.1415\n",
      "n_neighbors=32: accuracy=0.8391, loss=0.1609\n",
      "n_neighbors=64: accuracy=0.8097, loss=0.1903\n",
      "n_neighbors=128: accuracy=0.7653, loss=0.2347\n",
      "n_neighbors=256: accuracy=0.7117, loss=0.2883\n",
      "n_neighbors=512: accuracy=0.6525, loss=0.3475\n",
      "n_neighbors=1024: accuracy=0.5874, loss=0.4126\n",
      "n_neighbors=2048: accuracy=0.5543, loss=0.4457\n",
      "n_neighbors=4096: accuracy=0.5289, loss=0.4711\n"
     ]
    },
    {
     "data": {
      "image/png": "[encoded data removed]",
      "text/plain": [
       "<Figure size 800x500 with 1 Axes>"
      ]
     },
     "metadata": {},
     "output_type": "display_data"
    }
   ],
   "source": [
    "n_neighbors_list = [2**i for i in range(13)]  # 1, 2, 4, ..., 4096\n",
    "results = []\n",
    "\n",
    "label_of_interest = 'height'  # any label you want\n",
    "\n",
    "for n in n_neighbors_list:\n",
    "    try:\n",
    "        accuracy, loss, knn = run_knn_from_split(X_train, X_test, y_train, y_test, n_neighbors=n, class_names=class_names, label_name=label_of_interest)\n",
    "        results.append({'n_neighbors': n, 'accuracy': accuracy, 'loss': loss, 'knn_model': knn})\n",
    "        print(f\"n_neighbors={n}: accuracy={accuracy:.4f}, loss={loss:.4f}\")\n",
    "    except ValueError as e:\n",
    "        print(f\"n_neighbors={n}: Error - {e}\")\n",
    "\n",
    "# Optionally, plot accuracy vs n_neighbors\n",
    "import matplotlib.pyplot as plt\n",
    "plt.figure(figsize=(8, 5))\n",
    "plt.plot([r['n_neighbors'] for r in results], [r['accuracy'] for r in results], marker='o')\n",
    "plt.xscale('log', base=2)\n",
    "plt.xlabel('n_neighbors')\n",
    "plt.ylabel('Accuracy')\n",
    "plt.title(f'K-NN Accuracy vs n_neighbors ({label_of_interest})')\n",
    "plt.grid(True)\n",
    "plt.show()"
   ]
  },
  {
   "cell_type": "code",
   "execution_count": 178,
   "id": "ea373996",
   "metadata": {},
   "outputs": [
    {
     "data": {
      "image/png": "[encoded data removed]",
      "text/plain": [
       "<Figure size 600x500 with 2 Axes>"
      ]
     },
     "metadata": {},
     "output_type": "display_data"
    }
   ],
   "source": [
    "# Find the best KNN model (highest accuracy)\n",
    "best_result = max(results, key=lambda x: x['accuracy'])\n",
    "best_knn = best_result['knn_model']\n",
    "best_n = best_result['n_neighbors']\n",
    "\n",
    "# Predict on the test set using the best model\n",
    "y_pred_best = best_knn.predict(X_test)\n",
    "\n",
    "# Plot confusion matrix for the best model\n",
    "from sklearn.metrics import confusion_matrix\n",
    "cm = confusion_matrix(y_test, y_pred_best)\n",
    "plt.figure(figsize=(6, 5))\n",
    "sns.heatmap(cm, annot=True, fmt='d', cmap='Blues',\n",
    "            xticklabels=class_names, yticklabels=class_names)\n",
    "plt.xlabel('Predicted')\n",
    "plt.ylabel('True')\n",
    "plt.title(f'Confusion Matrix: Best KNN (n_neighbors={best_n}) for {label_of_interest}')\n",
    "plt.tight_layout()\n",
    "plt.show()"
   ]
  },
  {
   "cell_type": "code",
   "execution_count": 179,
   "id": "f6f7b868",
   "metadata": {},
   "outputs": [
    {
     "data": {
      "image/png": "[encoded data removed]",
      "text/plain": [
       "<Figure size 700x600 with 1 Axes>"
      ]
     },
     "metadata": {},
     "output_type": "display_data"
    }
   ],
   "source": [
    "from sklearn.metrics import precision_recall_fscore_support\n",
    "\n",
    "# Get precision and recall for each class\n",
    "precision, recall, fscore, support = precision_recall_fscore_support(y_test, y_pred_best, zero_division=0)\n",
    "\n",
    "plt.figure(figsize=(7, 6))\n",
    "plt.scatter(recall, precision, s=100, c='b')\n",
    "for i, class_name in enumerate(class_names):\n",
    "    plt.text(recall[i]+0.01, precision[i], class_name, fontsize=12)\n",
    "plt.xlabel('Recall')\n",
    "plt.ylabel('Precision')\n",
    "plt.title(f'Precision vs Recall (Best KNN, n_neighbors={best_n})')\n",
    "plt.xlim(0, 1.05)\n",
    "plt.ylim(0, 1.05)\n",
    "plt.grid(True)\n",
    "plt.show()"
   ]
  },
  {
   "cell_type": "markdown",
   "id": "75f0fe3f",
   "metadata": {},
   "source": [
    "#### K-NN WITH PCA DATASET"
   ]
  },
  {
   "cell_type": "markdown",
   "id": "7c830f64",
   "metadata": {},
   "source": [
    "### K-MEANS ALGORITHM"
   ]
  },
  {
   "cell_type": "code",
   "execution_count": null,
   "id": "4f0667d6",
   "metadata": {},
   "outputs": [],
   "source": [
    "# # Run k-means with a guessed number of clusters (e.g., 3)\n",
    "# k = 3\n",
    "# kmeans = KMeans(n_clusters=k, random_state=42)\n",
    "# cluster_labels = kmeans.fit_predict(X_scaled)\n",
    "\n",
    "# # Evaluate clustering with silhouette score\n",
    "# sil_score = silhouette_score(X_scaled, cluster_labels)\n",
    "\n",
    "# # Prepare dataframe for plotting\n",
    "# pca_df = pd.DataFrame({\n",
    "#     'PC1': X_pca[:, 0],\n",
    "#     'PC2': X_pca[:, 1],\n",
    "#     'Cluster': cluster_labels\n",
    "# })\n",
    "\n",
    "# # Plot PCA-reduced features colored by cluster\n",
    "# plt.figure(figsize=(8, 6))\n",
    "# sns.scatterplot(data=pca_df, x='PC1', y='PC2', hue='Cluster', palette='Set2')\n",
    "# plt.title(f'K-Means Clustering (k={k}) on PCA-Reduced Features\\nSilhouette Score = {sil_score:.2f}')\n",
    "# plt.xlabel('Principal Component 1')\n",
    "# plt.ylabel('Principal Component 2')\n",
    "# plt.legend(title='Cluster')\n",
    "# plt.tight_layout()\n",
    "# plt.show()"
   ]
  },
  {
   "cell_type": "code",
   "execution_count": null,
   "id": "4f6f8002",
   "metadata": {},
   "outputs": [],
   "source": [
    "# Perform k-Means clustering on the original features\n",
    "# Encode weight labels as integers for evaluation\n",
    "from sklearn.preprocessing import LabelEncoder\n",
    "current_label_of_interest = 'handedness'\n",
    "cluster_numbers = 2\n",
    "weight_encoded = LabelEncoder().fit_transform(labels_df[current_label_of_interest])\n",
    "\n",
    "# Standardize features\n",
    "scaler = StandardScaler()\n",
    "X_scaled = scaler.fit_transform(features)\n",
    "\n",
    "# Choose k=3 for the three weight categories\n",
    "k = cluster_numbers\n",
    "kmeans = KMeans(n_clusters=k, random_state=1)\n",
    "cluster_labels = kmeans.fit_predict(X_scaled)\n",
    "\n",
    "# Compare clusters to actual weight catWegories\n",
    "from sklearn.metrics import confusion_matrix, classification_report\n",
    "\n",
    "print(\"Confusion Matrix (clusters vs. true weight categories):\")\n",
    "print(confusion_matrix(weight_encoded, cluster_labels))\n",
    "\n",
    "print(\"\\nClassification Report (clusters vs. true weight categories):\")\n",
    "print(classification_report(weight_encoded, cluster_labels, target_names=LabelEncoder().fit(labels_df[current_label_of_interest]).classes_))\n"
   ]
  },
  {
   "cell_type": "code",
   "execution_count": null,
   "id": "670f30ae",
   "metadata": {},
   "outputs": [],
   "source": [
    "# Plot the confusion matrix\n",
    "# Compute the confusion matrix\n",
    "cm = confusion_matrix(weight_encoded, cluster_labels)\n",
    "weight_classes = LabelEncoder().fit(labels_df[current_label_of_interest]).classes_\n",
    "\n",
    "# Plot the confusion matrix using seaborn\n",
    "plt.figure(figsize=(6, 5))\n",
    "sns.heatmap(cm, annot=True, fmt='d', cmap='Blues', \n",
    "            xticklabels=[f'Cluster {i}' for i in range(cm.shape[1])],\n",
    "            yticklabels=weight_classes)\n",
    "plt.xlabel('KMeans Cluster')\n",
    "plt.ylabel('True Category')\n",
    "plt.title('Confusion Matrix: KMeans Clusters vs. True Weight Categories')\n",
    "plt.tight_layout()\n",
    "plt.show()"
   ]
  },
  {
   "cell_type": "code",
   "execution_count": null,
   "id": "75edc4c8",
   "metadata": {},
   "outputs": [],
   "source": [
    "# Perform k-Means clustering on the top 16D PCA-reduced features\n",
    "# Encode weight labels as integers for evaluation\n",
    "from sklearn.preprocessing import LabelEncoder\n",
    "weight_encoded = LabelEncoder().fit_transform(labels_df[current_label_of_interest])\n",
    "\n",
    "# Run KMeans on the 16D PCA-reduced features\n",
    "k = cluster_numbers\n",
    "kmeans = KMeans(n_clusters=k, random_state=42)\n",
    "cluster_labels = kmeans.fit_predict(reduced_features_16)\n",
    "\n",
    "# Compare clusters to actual weight categories\n",
    "from sklearn.metrics import confusion_matrix, classification_report\n",
    "\n",
    "print(\"Confusion Matrix (clusters vs. true categories):\")\n",
    "print(confusion_matrix(weight_encoded, cluster_labels))\n",
    "\n",
    "print(\"\\nClassification Report (clusters vs. true categories):\")\n",
    "print(classification_report(weight_encoded, cluster_labels, target_names=LabelEncoder().fit(labels_df[current_label_of_interest]).classes_))\n"
   ]
  },
  {
   "cell_type": "code",
   "execution_count": null,
   "id": "8aa313df",
   "metadata": {},
   "outputs": [],
   "source": [
    "# Plot the confusion matrix for the 16D PCA-reduced features\n",
    "# Compute the confusion matrix\n",
    "cm = confusion_matrix(weight_encoded, cluster_labels)\n",
    "weight_classes = LabelEncoder().fit(labels_df[current_label_of_interest]).classes_\n",
    "\n",
    "# Plot the confusion matrix using seaborn\n",
    "plt.figure(figsize=(6, 5))\n",
    "sns.heatmap(cm, annot=True, fmt='d', cmap='Blues', \n",
    "            xticklabels=[f'Cluster {i}' for i in range(cm.shape[1])],\n",
    "            yticklabels=weight_classes)\n",
    "plt.xlabel('KMeans Cluster')\n",
    "plt.ylabel('True Weight Category')\n",
    "plt.title('Confusion Matrix: KMeans Clusters vs. True Weight Categories')\n",
    "plt.tight_layout()\n",
    "plt.show()"
   ]
  },
  {
   "cell_type": "code",
   "execution_count": null,
   "id": "d3478d13",
   "metadata": {},
   "outputs": [],
   "source": [
    "# Perform k-Means clustering on the top 2D PCA-reduced features\n",
    "# Encode weight labels as integers for evaluation\n",
    "from sklearn.preprocessing import LabelEncoder\n",
    "weight_encoded = LabelEncoder().fit_transform(labels_df[current_label_of_interest])\n",
    "\n",
    "# Run KMeans on the 16D PCA-reduced features\n",
    "k = cluster_numbers\n",
    "kmeans = KMeans(n_clusters=k, random_state=42)\n",
    "cluster_labels = kmeans.fit_predict(reduced_features)\n",
    "\n",
    "# Compare clusters to actual weight categories\n",
    "from sklearn.metrics import confusion_matrix, classification_report\n",
    "\n",
    "print(\"Confusion Matrix (clusters vs. true weight categories):\")\n",
    "print(confusion_matrix(weight_encoded, cluster_labels))\n",
    "\n",
    "print(\"\\nClassification Report (clusters vs. true weight categories):\")\n",
    "print(classification_report(weight_encoded, cluster_labels, target_names=LabelEncoder().fit(labels_df[current_label_of_interest]).classes_))\n"
   ]
  },
  {
   "cell_type": "code",
   "execution_count": null,
   "id": "dcfb0ebc",
   "metadata": {},
   "outputs": [],
   "source": [
    "# Plot the confusion matrix for the 2D PCA-reduced features\n",
    "# Compute the confusion matrix\n",
    "cm = confusion_matrix(weight_encoded, cluster_labels)\n",
    "weight_classes = LabelEncoder().fit(labels_df[current_label_of_interest]).classes_\n",
    "\n",
    "# Plot the confusion matrix using seaborn\n",
    "plt.figure(figsize=(6, 5))\n",
    "sns.heatmap(cm, annot=True, fmt='d', cmap='Blues', \n",
    "            xticklabels=[f'Cluster {i}' for i in range(cm.shape[1])],\n",
    "            yticklabels=weight_classes)\n",
    "plt.xlabel('KMeans Cluster')\n",
    "plt.ylabel('True Weight Category')\n",
    "plt.title('Confusion Matrix: KMeans Clusters vs. True Weight Categories')\n",
    "plt.tight_layout()\n",
    "plt.show()"
   ]
  },
  {
   "cell_type": "code",
   "execution_count": null,
   "id": "949ebd4c",
   "metadata": {},
   "outputs": [],
   "source": [
    "# Reduce to 2D with PCA for visualization\n",
    "pca = PCA(n_components=2)\n",
    "X_pca = pca.fit_transform(X_scaled)\n",
    "\n",
    "# Run KMeans clustering (k=3 for weight categories)\n",
    "k = cluster_numbers\n",
    "kmeans = KMeans(n_clusters=k, random_state=42)\n",
    "cluster_labels = kmeans.fit_predict(X_scaled)\n",
    "\n",
    "# Get cluster centers in PCA space\n",
    "centroids = kmeans.cluster_centers_\n",
    "centroids_pca = pca.transform(centroids)\n",
    "\n",
    "# Define the color palette and cluster count\n",
    "palette = sns.color_palette('Set2', n_colors=k)\n",
    "\n",
    "# Plot all clusters together and get axis limits\n",
    "plt.figure(figsize=(8, 6))\n",
    "sns.scatterplot(x=X_pca[:, 0], y=X_pca[:, 1], hue=cluster_labels, palette=palette, alpha=0.7)\n",
    "plt.scatter(centroids_pca[:, 0], centroids_pca[:, 1], s=200, c='red', marker='X', label='Centroids')\n",
    "plt.title('KMeans Clusters in PCA-Reduced Space (All Clusters)')\n",
    "plt.xlabel('Principal Component 1')\n",
    "plt.ylabel('Principal Component 2')\n",
    "plt.legend(title='Cluster')\n",
    "plt.tight_layout()\n",
    "# Get axis limits\n",
    "xlim = plt.gca().get_xlim()\n",
    "ylim = plt.gca().get_ylim()\n",
    "plt.show()\n",
    "\n",
    "# Plot each cluster separately with matching color and same axis limits\n",
    "for cluster_id in range(k):\n",
    "    plt.figure(figsize=(8, 6))\n",
    "    mask = (cluster_labels == cluster_id)\n",
    "    plt.scatter(X_pca[mask, 0], X_pca[mask, 1], color=palette[cluster_id], alpha=0.7, label=f'Cluster {cluster_id}')\n",
    "    plt.scatter(centroids_pca[cluster_id, 0], centroids_pca[cluster_id, 1], s=200, c='red', marker='X', label='Centroid')\n",
    "    plt.title(f'KMeans Cluster {cluster_id} in PCA-Reduced Space')\n",
    "    plt.xlabel('Principal Component 1')\n",
    "    plt.ylabel('Principal Component 2')\n",
    "    plt.xlim(xlim)\n",
    "    plt.ylim(ylim)\n",
    "    plt.legend()\n",
    "    plt.tight_layout()\n",
    "    plt.show()"
   ]
  },
  {
   "cell_type": "code",
   "execution_count": null,
   "id": "185b1abd",
   "metadata": {},
   "outputs": [],
   "source": [
    "# Encode weight categories as integers for coloring\n",
    "weight_labels = labels_df[current_label_of_interest].values\n",
    "weight_encoded = LabelEncoder().fit_transform(weight_labels)\n",
    "weight_classes = LabelEncoder().fit(labels_df[current_label_of_interest]).classes_\n",
    "palette_weights = sns.color_palette('Set2', n_colors=len(weight_classes))\n",
    "\n",
    "# Plot all weight categories together using the same axis limits as before\n",
    "plt.figure(figsize=(8, 6))\n",
    "sns.scatterplot(x=X_pca[:, 0], y=X_pca[:, 1], hue=weight_labels, palette=palette_weights, alpha=0.7)\n",
    "plt.title('True Weight Categories in PCA-Reduced Space (All Samples)')\n",
    "plt.xlabel('Principal Component 1')\n",
    "plt.ylabel('Principal Component 2')\n",
    "plt.legend(title='Weight Category')\n",
    "plt.xlim(xlim)\n",
    "plt.ylim(ylim)\n",
    "plt.tight_layout()\n",
    "plt.show()\n",
    "\n",
    "# Plot each weight category separately with matching color and same axis limits\n",
    "for idx, weight_class in enumerate(weight_classes):\n",
    "    plt.figure(figsize=(8, 6))\n",
    "    mask = (weight_labels == weight_class)\n",
    "    plt.scatter(X_pca[mask, 0], X_pca[mask, 1], color=palette_weights[idx], alpha=0.7, label=f'Weight: {weight_class}')\n",
    "    plt.title(f'Category: {weight_class} in PCA-Reduced Space')\n",
    "    plt.xlabel('Principal Component 1')\n",
    "    plt.ylabel('Principal Component 2')\n",
    "    plt.xlim(xlim)\n",
    "    plt.ylim(ylim)\n",
    "    plt.legend()\n",
    "    plt.tight_layout()\n",
    "    plt.show()"
   ]
  }
 ],
 "metadata": {
  "kernelspec": {
   "display_name": "DeepLearningSTAT7007",
   "language": "python",
   "name": "python3"
  },
  "language_info": {
   "codemirror_mode": {
    "name": "ipython",
    "version": 3
   },
   "file_extension": ".py",
   "mimetype": "text/x-python",
   "name": "python",
   "nbconvert_exporter": "python",
   "pygments_lexer": "ipython3",
   "version": "3.11.11"
  }
 },
 "nbformat": 4,
 "nbformat_minor": 5
}
