{
 "cells": [
  {
   "cell_type": "markdown",
   "id": "064e3969",
   "metadata": {},
   "source": [
    "### 1. Introduction\n"
   ]
  },
  {
   "cell_type": "markdown",
   "id": "542f864b",
   "metadata": {},
   "source": [
    "### 2. Aims"
   ]
  },
  {
   "cell_type": "markdown",
   "id": "e9932ee5",
   "metadata": {},
   "source": [
    "### 3. Data Exploration"
   ]
  },
  {
   "cell_type": "markdown",
   "id": "30abbda7",
   "metadata": {},
   "source": [
    "## 3.1 Checking the data\n",
    "- Data contained rows that appears to seem to be invalid data (e.g. row 9999), may be used seperating data every 10000 rows. I process them out of the data\n",
    "- There are imbalances in the data associated to each lable (the y-data or classes). I need to address that (maybe with SMOTE?)"
   ]
  },
  {
   "cell_type": "markdown",
   "id": "317093a7",
   "metadata": {},
   "source": [
    "### 4. PCA"
   ]
  },
  {
   "cell_type": "markdown",
   "id": "bbf794ea",
   "metadata": {},
   "source": [
    "### 5. Logistic Regression"
   ]
  },
  {
   "cell_type": "markdown",
   "id": "cf4d37f2",
   "metadata": {},
   "source": [
    "### 6. k-NN"
   ]
  },
  {
   "cell_type": "markdown",
   "id": "3b6856ab",
   "metadata": {},
   "source": [
    "### 7. Gradient Boosting"
   ]
  },
  {
   "cell_type": "markdown",
   "id": "97602ba8",
   "metadata": {},
   "source": [
    "### 8. Neural Networks"
   ]
  },
  {
   "cell_type": "markdown",
   "id": "c138ee41",
   "metadata": {},
   "source": [
    "### NOTES\n",
    "#### METRICS FOR JUDGING MODELS\n",
    "- Confusion Matrix (classficiation)\n",
    "- ROC curves (???)\n",
    "- Mean Squared Error\n",
    "- Recall\n",
    "- F1-Score\n",
    "\n",
    "### Hyperparameter tuning\n",
    "- Grid search and random search\n",
    "\n"
   ]
  }
 ],
 "metadata": {
  "language_info": {
   "name": "python"
  }
 },
 "nbformat": 4,
 "nbformat_minor": 5
}
